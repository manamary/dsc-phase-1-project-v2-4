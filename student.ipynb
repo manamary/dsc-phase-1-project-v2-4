{
 "cells": [
  {
   "cell_type": "markdown",
   "metadata": {},
   "source": [
    "## Final Project Submission\n",
    "\n",
    "Please fill out:\n",
    "* Student name: \n",
    "* Student pace: self paced / part time / full time\n",
    "* Scheduled project review date/time: \n",
    "* Instructor name: \n",
    "* Blog post URL:\n"
   ]
  },
  {
   "cell_type": "markdown",
   "metadata": {},
   "source": [
    "#                                             MICROSOFT MOVIE DATA ANALYSIS PROJECT"
   ]
  },
  {
   "cell_type": "markdown",
   "metadata": {},
   "source": [
    "\n",
    "\n",
    "\n",
    "\n",
    "# Project Overview\n",
    "\n",
    "Our client, Microsoft, is planning to open a new Movie Studio. The goal of this project is to define what factors to look at for a successful movie production then translate those findings in to actionable insights that the head of Microsoft’s new movie studio can use to help decide what type of films to create. It involves using things like budget, revenue, profit, popularity, genres, timing, ratings, directors and script/screen writers. This project analyzes data from IMDB, Rotten Tomatoes, The Movie DB, The Numbers and Box Office Mojo, pulling data from over 2,000 movies over the past years.\n",
    "\n"
   ]
  },
  {
   "cell_type": "markdown",
   "metadata": {},
   "source": [
    "\n",
    "\n",
    "# Business Problem\n",
    "\n",
    "Microsoft is launching a movie studio that can compete with other successful movie studios. However, they don’t know anything about creating movies.  In order to be successful from the start, I will have to consider the following questions: \n",
    "\n",
    "1. What movies and genres have the highest ratings? \n",
    "\n",
    "2. What movies and genres have the highest grossings?\n",
    "\n",
    "3. How are the most successful movie studios operating today? \n",
    "\n",
    "4. What level of risks Microsoft wants to take? \n",
    "\n",
    "5. How much is the Head of Microsoft Movie Studio willing to spend? \n",
    "\n",
    "6. What attributes make a movie successful? \n",
    "\n",
    "7. What factors affect the popularity of movies? \n",
    "\n",
    "8. What type of movies did people watch in the past years? \n",
    "\n",
    "9. Does movie-length have any impact on the people? \n",
    "\n",
    "10. When is the best time to release a movie to be successful? \n",
    "\n",
    "11. Who are the top directors from the standpoint of movies profitability? \n",
    "\n",
    "12. Who are the top screenwriters in terms of the movies' average profit? \n",
    "\n",
    "I assume that the answers to these questions are one of the main parts of the steps that should be taken into account to create the most cost-effective film in the digital world. "
   ]
  },
  {
   "cell_type": "markdown",
   "metadata": {},
   "source": [
    "# Data Understanding\n",
    "\n"
   ]
  },
  {
   "cell_type": "code",
   "execution_count": null,
   "metadata": {},
   "outputs": [],
   "source": [
    "# Importing necessary libraries for my analysis\n",
    "import pandas as pd\n",
    "import csv\n",
    "import sqlite3\n",
    "\n",
    "\n",
    "\n",
    "# Data Visualization packages\n",
    "import numpy as np\n",
    "import matplotlib.pyplot as plt\n",
    "import seaborn as sns\n",
    "%matplotlib inline"
   ]
  },
  {
   "cell_type": "code",
   "execution_count": null,
   "metadata": {},
   "outputs": [],
   "source": [
    "#Importing modules and packges from inside zip files\n",
    "import zippedData"
   ]
  },
  {
   "cell_type": "code",
   "execution_count": null,
   "metadata": {},
   "outputs": [],
   "source": [
    "# Listing the files in the zippedData\n",
    "! ls"
   ]
  },
  {
   "cell_type": "markdown",
   "metadata": {},
   "source": [
    "Now that I have a list of what datasets I will be working with, lets understand what their data represents."
   ]
  },
  {
   "cell_type": "code",
   "execution_count": null,
   "metadata": {},
   "outputs": [],
   "source": [
    "cd zippedData"
   ]
  },
  {
   "cell_type": "code",
   "execution_count": null,
   "metadata": {
    "scrolled": false
   },
   "outputs": [],
   "source": [
    "# Use pandas to load the csv file\n",
    "bommo_df = pd.read_csv(\"bom.movie_gross.csv\") \n",
    "# get info for DataFrame\n",
    "bommo_df.info()\n",
    "# checking the first entries\n",
    "bommo_df.head()"
   ]
  },
  {
   "cell_type": "code",
   "execution_count": null,
   "metadata": {},
   "outputs": [],
   "source": [
    "# Use pandas to load the tsv file\n",
    "rtmo_df = pd.read_table(\"rt.movie_info.tsv\") \n",
    "# get info for DataFrame\n",
    "rtmo_df.info()\n",
    "# checking the first entries\n",
    "rtmo_df.head()"
   ]
  },
  {
   "cell_type": "code",
   "execution_count": null,
   "metadata": {},
   "outputs": [],
   "source": [
    "# Use pandas to load the csv file\n",
    "tmdb_df = pd.read_csv(\"tmdb.movies.csv\") \n",
    "# get info for DataFrame\n",
    "tmdb_df.info()\n",
    "# checking the first entries\n",
    "tmdb_df.head()"
   ]
  },
  {
   "cell_type": "code",
   "execution_count": null,
   "metadata": {},
   "outputs": [],
   "source": [
    "# Use pandas to load the csv file\n",
    "tnmo_df = pd.read_csv(\"tn.movie_budgets.csv\") \n",
    "# get info for DataFrame\n",
    "tnmo_df.info()\n",
    "# checking the first entries\n",
    "tnmo_df.head()"
   ]
  },
  {
   "cell_type": "code",
   "execution_count": null,
   "metadata": {
    "scrolled": false
   },
   "outputs": [],
   "source": [
    "# Use pandas to load the tsv file\n",
    "rt_reviews = pd.read_table('rt.reviews.tsv', encoding='unicode_escape') \n",
    "# get info from the table\n",
    "rt_reviews.info()\n",
    "## checking the first entries\n",
    "rt_reviews.head()"
   ]
  },
  {
   "cell_type": "code",
   "execution_count": null,
   "metadata": {},
   "outputs": [],
   "source": [
    "conn = sqlite3.connect('im.db')"
   ]
  },
  {
   "cell_type": "code",
   "execution_count": null,
   "metadata": {},
   "outputs": [],
   "source": [
    "movie_basics_df = pd.read_sql_query(\"\"\"\n",
    "SELECT *\n",
    "FROM movie_basics\n",
    "LIMIT 10\n",
    ";\"\"\", conn)\n",
    "\n",
    "movie_basics_df"
   ]
  },
  {
   "cell_type": "code",
   "execution_count": null,
   "metadata": {},
   "outputs": [],
   "source": [
    "movie_basics_df.info()"
   ]
  },
  {
   "cell_type": "code",
   "execution_count": null,
   "metadata": {},
   "outputs": [],
   "source": [
    "movie_ratings_df = pd.read_sql_query(\"\"\"\n",
    "SELECT *\n",
    "FROM movie_ratings\n",
    "LIMIT 10\n",
    ";\"\"\", conn)\n",
    "\n",
    "movie_ratings_df"
   ]
  },
  {
   "cell_type": "code",
   "execution_count": null,
   "metadata": {},
   "outputs": [],
   "source": [
    "movie_ratings_df.info()"
   ]
  },
  {
   "cell_type": "markdown",
   "metadata": {},
   "source": [
    "# Data Preparation\n",
    "\n",
    "Here, I will ensure that raw data being readied for processing and analysis is accurate and consistent so the results will be valid. Mostly this data is commonly created with missing values, inaccurcies, or other errors and separate data sets often have different formats that need to be reconciled when they are combined. "
   ]
  },
  {
   "cell_type": "markdown",
   "metadata": {},
   "source": [
    "# (1A). Data Cleaning\n",
    "Now that we have a view of how the data sets look like, i shall begin  with the (\"bom.movie_gross.csv\") to detect, correct corrupt records, identitfy incomplete or irrevelant parts of the data then replace, modify or delete the coarse data."
   ]
  },
  {
   "cell_type": "code",
   "execution_count": null,
   "metadata": {},
   "outputs": [],
   "source": [
    "# lets have a look again on how the dataset looks like\n",
    "bommo_df = pd.read_csv(\"bom.movie_gross.csv\") \n",
    "# get info for DataFrame\n",
    "bommo_df.info()\n",
    "# checking the first entries\n",
    "bommo_df.head()"
   ]
  },
  {
   "cell_type": "code",
   "execution_count": null,
   "metadata": {},
   "outputs": [],
   "source": [
    "#Remove object in the foreign_gross column\n",
    "bommo_df['foreign_gross'] = [float(str(i).replace(\",\", \"\")) for i in bommo_df[\"foreign_gross\"]]"
   ]
  },
  {
   "cell_type": "code",
   "execution_count": null,
   "metadata": {},
   "outputs": [],
   "source": [
    "#transfigure foreign_gross into float64\n",
    "bommo_df['foreign_gross'] = bommo_df['foreign_gross'].astype('float64')"
   ]
  },
  {
   "cell_type": "code",
   "execution_count": null,
   "metadata": {},
   "outputs": [],
   "source": [
    "#Get new info of the dataframes\n",
    "bommo_df.info()"
   ]
  },
  {
   "cell_type": "code",
   "execution_count": null,
   "metadata": {
    "scrolled": true
   },
   "outputs": [],
   "source": [
    "# Check missing values\n",
    "bommo_df.isnull().sum()"
   ]
  },
  {
   "cell_type": "code",
   "execution_count": null,
   "metadata": {
    "scrolled": true
   },
   "outputs": [],
   "source": [
    "#lets have a look on how big the missing values are in form of percentage\n",
    "bommo_df.isnull().sum()*100/len(bommo_df)"
   ]
  },
  {
   "cell_type": "code",
   "execution_count": null,
   "metadata": {},
   "outputs": [],
   "source": [
    "# since the percentage isnt to high as we had thought, then it means we can work with what we got.\n",
    "# drop the missing values\n",
    "bommo_df.dropna(axis=0, inplace=True)\n",
    "#counter check if the missing values dropped\n",
    "bommo_df.isnull().sum()"
   ]
  },
  {
   "cell_type": "code",
   "execution_count": null,
   "metadata": {},
   "outputs": [],
   "source": [
    "# run new dataframe\n",
    "bommo_df"
   ]
  },
  {
   "cell_type": "code",
   "execution_count": null,
   "metadata": {},
   "outputs": [],
   "source": [
    "# Inorder to avoid contamination within the data, lets check if there are any duplicates.\n",
    "bommo_df.duplicated().any()"
   ]
  },
  {
   "cell_type": "markdown",
   "metadata": {},
   "source": [
    "Before I analyse my data, i wll first clean the tsv file (\"rt.movie_info.tsv\") so that i can be able to merge or join it with (\"bom.movie_gross.csv\") to get more information surrounding within the two datasets which i shall later explore more on the analysis."
   ]
  },
  {
   "cell_type": "code",
   "execution_count": null,
   "metadata": {
    "scrolled": true
   },
   "outputs": [],
   "source": [
    "# lets have a look again on how the dataset looks like\n",
    "rtmo_df = pd.read_table(\"rt.movie_info.tsv\") \n",
    "# get info for DataFrame\n",
    "rtmo_df.info()\n",
    "# checking the first entries\n",
    "rtmo_df.head()"
   ]
  },
  {
   "cell_type": "code",
   "execution_count": null,
   "metadata": {},
   "outputs": [],
   "source": [
    "# drop the columns that i wont be working with\n",
    "rtmo_df.drop(['synopsis','theater_date','dvd_date','currency'], axis = 1, inplace = True)"
   ]
  },
  {
   "cell_type": "code",
   "execution_count": null,
   "metadata": {},
   "outputs": [],
   "source": [
    "# run the new dataframe\n",
    "rtmo_df.info()"
   ]
  },
  {
   "cell_type": "code",
   "execution_count": null,
   "metadata": {},
   "outputs": [],
   "source": [
    "# Check missing values\n",
    "rtmo_df.isnull().sum()"
   ]
  },
  {
   "cell_type": "code",
   "execution_count": null,
   "metadata": {},
   "outputs": [],
   "source": [
    "#lets have a look on how big the missing values are in form of percentage\n",
    "rtmo_df.isnull().sum()*100/len(bommo_df)"
   ]
  },
  {
   "cell_type": "code",
   "execution_count": null,
   "metadata": {},
   "outputs": [],
   "source": [
    "# Since the studio info is important, will just fill it with unkown\n",
    "rtmo_df['studio'].fillna(\"Unknown\", inplace = True)"
   ]
  },
  {
   "cell_type": "code",
   "execution_count": null,
   "metadata": {},
   "outputs": [],
   "source": [
    "# Since the box_office info is important, will just fill it with unkown\n",
    "rtmo_df['box_office'].fillna(\"0\", inplace = True)"
   ]
  },
  {
   "cell_type": "code",
   "execution_count": null,
   "metadata": {},
   "outputs": [],
   "source": [
    "rtmo_df['box_office'] = rtmo_df['box_office'].str.replace('Unknown', '0')"
   ]
  },
  {
   "cell_type": "code",
   "execution_count": null,
   "metadata": {},
   "outputs": [],
   "source": [
    "rtmo_df['box_office'] = rtmo_df['box_office'].str.replace(',', '')"
   ]
  },
  {
   "cell_type": "code",
   "execution_count": null,
   "metadata": {},
   "outputs": [],
   "source": [
    "rtmo_df['box_office']= rtmo_df['box_office'].astype('int64')"
   ]
  },
  {
   "cell_type": "code",
   "execution_count": null,
   "metadata": {
    "scrolled": true
   },
   "outputs": [],
   "source": [
    "# run new dataframe\n",
    "rtmo_df.info()"
   ]
  },
  {
   "cell_type": "code",
   "execution_count": null,
   "metadata": {
    "scrolled": true
   },
   "outputs": [],
   "source": [
    "# lets have a look at our new dataframe\n",
    "rtmo_df"
   ]
  },
  {
   "cell_type": "code",
   "execution_count": null,
   "metadata": {},
   "outputs": [],
   "source": [
    "# Inorder to avoid contamination within the data, lets check if there are any duplicates.\n",
    "rtmo_df.duplicated().any()"
   ]
  },
  {
   "cell_type": "code",
   "execution_count": null,
   "metadata": {},
   "outputs": [],
   "source": [
    "# put together the combination of bommo_df with rtmo_df to make one dataframe\n",
    "film1 = pd.merge(rtmo_df,bommo_df, how ='inner',left_on = 'studio',right_on = 'studio')\n",
    "film1"
   ]
  },
  {
   "cell_type": "code",
   "execution_count": null,
   "metadata": {},
   "outputs": [],
   "source": [
    "film1['foreign_gross'] = [float(str(i).replace(\",\", \"\")) for i in film1[\"foreign_gross\"]]"
   ]
  },
  {
   "cell_type": "code",
   "execution_count": null,
   "metadata": {},
   "outputs": [],
   "source": [
    "film1['foreign_gross'] = film1['foreign_gross'].astype('int64')"
   ]
  },
  {
   "cell_type": "code",
   "execution_count": null,
   "metadata": {},
   "outputs": [],
   "source": [
    "film1['domestic_gross'] = [float(str(i).replace(\",\", \"\")) for i in film1[\"domestic_gross\"]]"
   ]
  },
  {
   "cell_type": "code",
   "execution_count": null,
   "metadata": {},
   "outputs": [],
   "source": [
    "film1['domestic_gross'] = film1['domestic_gross'].astype('int64')"
   ]
  },
  {
   "cell_type": "code",
   "execution_count": null,
   "metadata": {
    "scrolled": true
   },
   "outputs": [],
   "source": [
    "film1.info()"
   ]
  },
  {
   "cell_type": "code",
   "execution_count": null,
   "metadata": {},
   "outputs": [],
   "source": [
    "# Inorder to avoid contamination within the data, lets check if there are any duplicates.\n",
    "film1.duplicated().any()"
   ]
  },
  {
   "cell_type": "code",
   "execution_count": null,
   "metadata": {},
   "outputs": [],
   "source": [
    "# setting the index\n",
    "movie_ratings_df.set_index('movie_id')"
   ]
  },
  {
   "cell_type": "code",
   "execution_count": null,
   "metadata": {
    "scrolled": true
   },
   "outputs": [],
   "source": [
    "# setting the index\n",
    "movie_basics_df.set_index('movie_id')"
   ]
  },
  {
   "cell_type": "code",
   "execution_count": null,
   "metadata": {
    "scrolled": true
   },
   "outputs": [],
   "source": [
    "film2 = pd.merge(movie_basics_df, movie_ratings_df, how ='outer')\n",
    "film2"
   ]
  },
  {
   "cell_type": "code",
   "execution_count": null,
   "metadata": {},
   "outputs": [],
   "source": [
    "film2.info()"
   ]
  },
  {
   "cell_type": "code",
   "execution_count": null,
   "metadata": {},
   "outputs": [],
   "source": [
    "film2.fillna(0, inplace = True)"
   ]
  },
  {
   "cell_type": "code",
   "execution_count": null,
   "metadata": {},
   "outputs": [],
   "source": [
    "film2"
   ]
  },
  {
   "cell_type": "code",
   "execution_count": null,
   "metadata": {},
   "outputs": [],
   "source": [
    "# change all columns with float64 to int64\n",
    "# (1st column is runtime_minutes)\n",
    "film2['runtime_minutes']= film2['runtime_minutes'].astype('float64')"
   ]
  },
  {
   "cell_type": "code",
   "execution_count": null,
   "metadata": {},
   "outputs": [],
   "source": [
    "# (2nd column is start_year)\n",
    "film2['start_year']= film2['start_year'].astype('int64')"
   ]
  },
  {
   "cell_type": "code",
   "execution_count": null,
   "metadata": {},
   "outputs": [],
   "source": [
    "# (3rd column is averagerating)\n",
    "film2['averagerating']= film2['averagerating'].astype('float64')"
   ]
  },
  {
   "cell_type": "code",
   "execution_count": null,
   "metadata": {},
   "outputs": [],
   "source": [
    "# (4th column is numvotes)\n",
    "film2['numvotes']= film2['numvotes'].astype('int64')"
   ]
  },
  {
   "cell_type": "code",
   "execution_count": null,
   "metadata": {
    "scrolled": true
   },
   "outputs": [],
   "source": [
    "# lets have a look at the new dataframe\n",
    "film2.info()"
   ]
  },
  {
   "cell_type": "code",
   "execution_count": null,
   "metadata": {},
   "outputs": [],
   "source": [
    "# Inorder to avoid contamination within the data, lets check if there are any duplicates.\n",
    "film2.duplicated().any()"
   ]
  },
  {
   "cell_type": "code",
   "execution_count": null,
   "metadata": {},
   "outputs": [],
   "source": [
    "# lets have a look again on how the dataset looks like\n",
    "tnmo = pd.read_csv(\"tn.movie_budgets.csv\") \n",
    "# get info for DataFrame\n",
    "tnmo.info()\n",
    "# checking the first entries\n",
    "tnmo.head()"
   ]
  },
  {
   "cell_type": "code",
   "execution_count": null,
   "metadata": {},
   "outputs": [],
   "source": [
    "# Inorder to avoid contamination within the data, lets check if there are any duplicates.\n",
    "tnmo.duplicated().any()"
   ]
  },
  {
   "cell_type": "markdown",
   "metadata": {},
   "source": [
    "Before I analyse my data, i wll first clean the tsv file (\"rt.movie_info.tsv\") so that i can be able to merge or join it with (\"bom.movie_gross.csv\") to get more information surrounding within the two datasets which i shall later explore more on the analysis."
   ]
  },
  {
   "cell_type": "markdown",
   "metadata": {},
   "source": [
    "Now that we have merged the two datasets, I can move on to analysis to present further understanding of the merged table."
   ]
  },
  {
   "cell_type": "markdown",
   "metadata": {},
   "source": [
    "#  (1B). Descriptive  Statistics and Graphic Displays"
   ]
  },
  {
   "cell_type": "markdown",
   "metadata": {},
   "source": [
    "After polishing our data, I shall now move on to drawing conclusions using statistics. This means use of statistical and graphic tecniques to present information about the data set.\n",
    "\n",
    "Lets plot some graphs with the first merged table called film1:-\n"
   ]
  },
  {
   "cell_type": "code",
   "execution_count": null,
   "metadata": {},
   "outputs": [],
   "source": [
    "# Data Visualization packages\n",
    "import numpy as np\n",
    "import matplotlib.pyplot as plt\n",
    "import seaborn as sns\n",
    "%matplotlib inline"
   ]
  },
  {
   "cell_type": "code",
   "execution_count": null,
   "metadata": {},
   "outputs": [],
   "source": [
    "# lets get a view of what i am working with\n",
    "film1.columns"
   ]
  },
  {
   "cell_type": "code",
   "execution_count": null,
   "metadata": {},
   "outputs": [],
   "source": [
    "# correlation between genre and rating?\n",
    "sns.scatterplot(x = 'rating', y = 'genre', data = film1)\n",
    "plt.title('GENRE VS RATING', fontsize = 10)\n",
    "plt.xlabel('rating', fontsize = 10)\n",
    "plt.ylabel('genre', fontsize = 10)\n",
    "plt.xticks(rotation=90);\n",
    "plt.show()"
   ]
  },
  {
   "cell_type": "code",
   "execution_count": null,
   "metadata": {},
   "outputs": [],
   "source": [
    "\"\"\"\n",
    "Most movies are rated R while least are NR. \n",
    "If most movies are rated R then this means that the audience is most probably aged 2 - 12 years.\n",
    "It could also conclude that as a movie studio, it can draw a line on which kind of movies to produce most to target \n",
    "a certain audience.\n",
    "\n",
    "\"\"\""
   ]
  },
  {
   "cell_type": "code",
   "execution_count": null,
   "metadata": {
    "scrolled": true
   },
   "outputs": [],
   "source": [
    "# correlation between genre and running time\n",
    "sns.scatterplot(x = 'runtime', y = 'genre', data = film1)\n",
    "plt.title('GENRE VS RUNTIME', fontsize = 10)\n",
    "plt.xlabel('runtime', fontsize = 10)\n",
    "plt.ylabel('genre', fontsize = 10)\n",
    "plt.xticks(rotation=90);\n",
    "plt.show()"
   ]
  },
  {
   "cell_type": "code",
   "execution_count": null,
   "metadata": {},
   "outputs": [],
   "source": [
    "\"\"\"\n",
    "You will notice that different genres have different running times. \n",
    "With this, a movie can have a rough idea of how long a movie should prolong.\n",
    "\n",
    "\"\"\""
   ]
  },
  {
   "cell_type": "code",
   "execution_count": null,
   "metadata": {},
   "outputs": [],
   "source": [
    "# want to get the total gross\n",
    "film1['total_gross' ]  = film1[ 'domestic_gross'] + film1['foreign_gross']\n",
    "film1"
   ]
  },
  {
   "cell_type": "code",
   "execution_count": null,
   "metadata": {
    "scrolled": false
   },
   "outputs": [],
   "source": [
    "# which director produced the most grossing movies?\n",
    "sns.scatterplot(x = 'director', y = 'total_gross', data = film1)\n",
    "plt.title('DIRECTOR VS TOTAL GROSS', fontsize = 10)\n",
    "plt.xlabel('director', fontsize = 10)\n",
    "plt.ylabel('total_gross', fontsize = 10)\n",
    "plt.xticks(rotation=90);\n",
    "plt.show()"
   ]
  },
  {
   "cell_type": "code",
   "execution_count": null,
   "metadata": {},
   "outputs": [],
   "source": [
    "\"\"\"\n",
    "We notice that Clint Eastwood has the highest number of total gross income meaning his films are \n",
    "selling and are loved and followed up by a big audience.\n",
    "This means that the Movie Studio can hire Clint Eastwood as thier director with assuarnce \n",
    "that he will bring benefits to the new company.\n",
    "\n",
    "\"\"\""
   ]
  },
  {
   "cell_type": "code",
   "execution_count": null,
   "metadata": {},
   "outputs": [],
   "source": [
    "# which writer wrote the most grossing movies?\n",
    "sns.scatterplot(x = 'writer', y = 'total_gross', data = film1)\n",
    "plt.title('WRITER VS TOTAL GROSS', fontsize = 10)\n",
    "plt.xlabel('writer', fontsize = 10)\n",
    "plt.ylabel('total_gross', fontsize = 10)\n",
    "plt.xticks(rotation=90);\n",
    "plt.show()"
   ]
  },
  {
   "cell_type": "code",
   "execution_count": null,
   "metadata": {},
   "outputs": [],
   "source": [
    "\"\"\"\n",
    "We notice that Brian Helgeland has the highest number of total gross income meaning his skills on script writing is\n",
    "selling within the movie industry.\n",
    "This means that the Movie Studio can hire Brain Helgeland as thier writer with assuarnce \n",
    "that he will bring profits to the new company.\n",
    "We can conclude that with both the efforts of both Clint Eastwood and Brian Helgeland, Microsoft Movie Studio can\n",
    "make tripple in profits.\n",
    "\n",
    "\"\"\""
   ]
  },
  {
   "cell_type": "code",
   "execution_count": null,
   "metadata": {},
   "outputs": [],
   "source": [
    "# which studio has the most successful movies produced with a high gross?\n",
    "sns.scatterplot(x = 'studio', y = 'total_gross', data = film1)\n",
    "plt.title('STUDIO VS TOTAL GROSS', fontsize = 10)\n",
    "plt.xlabel('studio', fontsize = 10)\n",
    "plt.ylabel('total_gross', fontsize = 10)\n",
    "plt.xticks(rotation=90);\n",
    "plt.show()"
   ]
  },
  {
   "cell_type": "code",
   "execution_count": null,
   "metadata": {},
   "outputs": [],
   "source": [
    "\"\"\"\n",
    "From this output we can tell in what order who will be the main competitors to Microsoft Movie Studio\n",
    "in the movie industry empire starting with WB being the first.\n",
    "\"\"\""
   ]
  },
  {
   "cell_type": "code",
   "execution_count": null,
   "metadata": {},
   "outputs": [],
   "source": [
    "# does domestic gross increase or decrease over the years?\n",
    "sns.scatterplot(x = 'year', y = 'domestic_gross', data = film1)\n",
    "plt.title('YEAR VS DOMESTIC GROSS', fontsize = 10)\n",
    "plt.xlabel('year', fontsize = 10)\n",
    "plt.ylabel('domestic_gross', fontsize = 10)\n",
    "plt.xticks(rotation=90);\n",
    "plt.show()"
   ]
  },
  {
   "cell_type": "code",
   "execution_count": null,
   "metadata": {},
   "outputs": [],
   "source": [
    "# does foreign gross increase or decrease over the years?\n",
    "sns.scatterplot(x = 'year', y = 'foreign_gross', data = film1)\n",
    "plt.title('YEAR VS FOREIGN GROSS', fontsize = 10)\n",
    "plt.xlabel('year', fontsize = 10)\n",
    "plt.ylabel('foreign_gross', fontsize = 10)\n",
    "plt.xticks(rotation=90);\n",
    "plt.show()"
   ]
  },
  {
   "cell_type": "code",
   "execution_count": null,
   "metadata": {},
   "outputs": [],
   "source": [
    "\"\"\"\n",
    "From the above two visuals of domestic_gross and foreign_gross, we can say that audiences from\n",
    "within the nation and world_wide, both equally contribute to the success of a movie.\n",
    "\n",
    "\"\"\""
   ]
  },
  {
   "cell_type": "code",
   "execution_count": null,
   "metadata": {},
   "outputs": [],
   "source": [
    "# which genre is trending in box_office?\n",
    "sns.scatterplot(x = 'genre', y = 'box_office', data = film1)\n",
    "plt.title('GENRE VS BOX OFFICE', fontsize = 10)\n",
    "plt.xlabel('genre', fontsize = 10)\n",
    "plt.ylabel('box_office', fontsize = 10)\n",
    "plt.xticks(rotation=90);\n",
    "plt.show()"
   ]
  },
  {
   "cell_type": "code",
   "execution_count": null,
   "metadata": {},
   "outputs": [],
   "source": [
    "\"\"\"\n",
    "Clearly, we can see that Action and Adventure|Mystery and Suspense trends more in box office.\n",
    "With that info, the Microsoft Movie Studio can take action on which films to make or begin with \n",
    "inorder to be on top and make crazy profits at the same time.\n",
    "\n",
    "\"\"\""
   ]
  },
  {
   "cell_type": "markdown",
   "metadata": {},
   "source": [
    "Lets plot some graphs with the first merged table called film1:-"
   ]
  },
  {
   "cell_type": "code",
   "execution_count": null,
   "metadata": {},
   "outputs": [],
   "source": [
    "# Data Visualization packages\n",
    "import numpy as np\n",
    "import matplotlib.pyplot as plt\n",
    "import seaborn as sns\n",
    "%matplotlib inline"
   ]
  },
  {
   "cell_type": "code",
   "execution_count": null,
   "metadata": {},
   "outputs": [],
   "source": [
    "# lets get a view of what i am working with\n",
    "film2.columns"
   ]
  },
  {
   "cell_type": "code",
   "execution_count": null,
   "metadata": {},
   "outputs": [],
   "source": [
    "# correlation of average rating and number of notes\n",
    "sns.scatterplot(x = 'averagerating', y = 'numvotes', data = film2)\n",
    "plt.title('AVERAGE RATING VS NUMBER OF VOTES', fontsize = 10)\n",
    "plt.xlabel('averagerating', fontsize = 10)\n",
    "plt.ylabel('numvotes', fontsize = 10)\n",
    "plt.xticks(rotation=90);\n",
    "plt.show()"
   ]
  },
  {
   "cell_type": "markdown",
   "metadata": {},
   "source": [
    "Lets plot some graphs with the table called tnmo_df:-"
   ]
  },
  {
   "cell_type": "code",
   "execution_count": null,
   "metadata": {},
   "outputs": [],
   "source": [
    "# Data Visualization packages\n",
    "import numpy as np\n",
    "import matplotlib.pyplot as plt\n",
    "import seaborn as sns\n",
    "%matplotlib inline"
   ]
  },
  {
   "cell_type": "code",
   "execution_count": null,
   "metadata": {},
   "outputs": [],
   "source": [
    "tnmo_df.columns"
   ]
  },
  {
   "cell_type": "code",
   "execution_count": null,
   "metadata": {},
   "outputs": [],
   "source": [
    "# which movie had the highest budget?\n",
    "sns.scatterplot(x = 'movie', y = 'production_budget', data = tnmo_df)\n",
    "plt.title('MOVIE VS PRODUCTION BUDGET', fontsize = 10)\n",
    "plt.xlabel('movie', fontsize = 10)\n",
    "plt.ylabel('production_budget', fontsize = 10)\n",
    "plt.xticks(rotation=90);\n",
    "plt.show()"
   ]
  },
  {
   "cell_type": "code",
   "execution_count": null,
   "metadata": {},
   "outputs": [],
   "source": [
    "# which movie had the highest budget?\n",
    "sns.scatterplot(x = 'movie 'numvotes', data = film2)\n",
    "plt.title('AVERAGE RATING VS NUMBER OF VOTES', fontsize = 10)\n",
    "plt.xlabel('averagerating', fontsize = 10)\n",
    "plt.ylabel('numvotes', fontsize = 10)\n",
    "plt.xticks(rotation=90);\n",
    "plt.show()"
   ]
  },
  {
   "cell_type": "code",
   "execution_count": null,
   "metadata": {},
   "outputs": [],
   "source": [
    "# which movie had the highest domestic_gross?\n",
    "# want to get the total gross\n",
    "film1['total_gross' ]  = film1[ 'domestic_gross'] + film1['foreign_gross']\n",
    "film1"
   ]
  },
  {
   "cell_type": "code",
   "execution_count": null,
   "metadata": {},
   "outputs": [],
   "source": [
    "# which movie had the highest worldwide_gross?"
   ]
  },
  {
   "cell_type": "code",
   "execution_count": null,
   "metadata": {},
   "outputs": [],
   "source": [
    "# which movie made the biggest profit?"
   ]
  },
  {
   "cell_type": "code",
   "execution_count": null,
   "metadata": {},
   "outputs": [],
   "source": [
    "# correlation of domestic_gross and worldwide_gross"
   ]
  },
  {
   "cell_type": "code",
   "execution_count": null,
   "metadata": {},
   "outputs": [],
   "source": [
    "x = genre_number\n",
    "fig, ax = plt.subplots()\n",
    "ax.hist(x, edgecolor=\"black\")\n",
    "ax.set_title(\" Genre with the highest number\")\n",
    "ax.set_xlabel(\"Types of genre\")\n",
    "ax.set_ylabel(\"Frequency\");\n",
    "plt.xticks(rotation=90);"
   ]
  },
  {
   "cell_type": "code",
   "execution_count": null,
   "metadata": {},
   "outputs": [],
   "source": []
  },
  {
   "cell_type": "code",
   "execution_count": null,
   "metadata": {},
   "outputs": [],
   "source": []
  },
  {
   "cell_type": "code",
   "execution_count": null,
   "metadata": {},
   "outputs": [],
   "source": []
  },
  {
   "cell_type": "code",
   "execution_count": null,
   "metadata": {},
   "outputs": [],
   "source": []
  },
  {
   "cell_type": "code",
   "execution_count": null,
   "metadata": {},
   "outputs": [],
   "source": []
  },
  {
   "cell_type": "code",
   "execution_count": null,
   "metadata": {},
   "outputs": [],
   "source": []
  },
  {
   "cell_type": "code",
   "execution_count": null,
   "metadata": {},
   "outputs": [],
   "source": []
  }
 ],
 "metadata": {
  "kernelspec": {
   "display_name": "Python 3",
   "language": "python",
   "name": "python3"
  },
  "language_info": {
   "codemirror_mode": {
    "name": "ipython",
    "version": 3
   },
   "file_extension": ".py",
   "mimetype": "text/x-python",
   "name": "python",
   "nbconvert_exporter": "python",
   "pygments_lexer": "ipython3",
   "version": "3.8.5"
  }
 },
 "nbformat": 4,
 "nbformat_minor": 2
}
